{
  "nbformat": 4,
  "nbformat_minor": 0,
  "metadata": {
    "colab": {
      "provenance": [],
      "mount_file_id": "1NI811Ki0EXXckJGe7GdH5KJqaOjgcJLK",
      "authorship_tag": "ABX9TyNdRMzpw8DkDS3fsgzhS0+G",
      "include_colab_link": true
    },
    "kernelspec": {
      "name": "python3",
      "display_name": "Python 3"
    },
    "language_info": {
      "name": "python"
    }
  },
  "cells": [
    {
      "cell_type": "markdown",
      "metadata": {
        "id": "view-in-github",
        "colab_type": "text"
      },
      "source": [
        "<a href=\"https://colab.research.google.com/github/Suraj-7077/Supervised-ML-regression-Bike-sharing-demand-prediction-capstone-project-II/blob/main/Supervised_ML_Classification_Capstone_project_III_.ipynb\" target=\"_parent\"><img src=\"https://colab.research.google.com/assets/colab-badge.svg\" alt=\"Open In Colab\"/></a>"
      ]
    },
    {
      "cell_type": "code",
      "execution_count": null,
      "metadata": {
        "id": "fpp37NaxYPgd"
      },
      "outputs": [],
      "source": []
    },
    {
      "cell_type": "markdown",
      "source": [
        "# Project Info:- "
      ],
      "metadata": {
        "id": "sMqXP1llcSSX"
      }
    },
    {
      "cell_type": "markdown",
      "source": [
        "## Project Type - EDA and Supervised ML Classification Model Building\n",
        "\n",
        "## Project Title - Bike Sharing Demand Prediction\n",
        "\n",
        "## Contribution - Individual\n",
        "\n",
        "## Created by - Suraj Shrikant Galande"
      ],
      "metadata": {
        "id": "5i-VF_6fcaXd"
      }
    },
    {
      "cell_type": "markdown",
      "source": [
        "# Project Statement :-  \n",
        "\n",
        "## Business objective:-  "
      ],
      "metadata": {
        "id": "kLARxYGLckjN"
      }
    },
    {
      "cell_type": "markdown",
      "source": [
        "### Most of the small to medium business owners are making effective use of Gmail-based Email marketing Strategies for offline targeting of converting their prospective customers into leads so that they stay with them in Business.\n",
        "\n",
        "###  The main objective is to create a machine learning model to characterize the mail and track the mail that is:- \n",
        "ignored:- Class = 0 \n",
        "\n",
        "read:- Class = 1\n",
        "\n",
        " acknowledged by the reader :- Class =2"
      ],
      "metadata": {
        "id": "NWMo506nc8Zl"
      }
    },
    {
      "cell_type": "markdown",
      "source": [
        "# GitHub Repo Link"
      ],
      "metadata": {
        "id": "M_dmSIiWdpiA"
      }
    },
    {
      "cell_type": "markdown",
      "source": [
        "https://github.com/Suraj-7077/Supervised-ML-Classification-Email-campaign-prediction.git"
      ],
      "metadata": {
        "id": "saVAqOqGdt5s"
      }
    },
    {
      "cell_type": "markdown",
      "source": [
        "# Dataset Description"
      ],
      "metadata": {
        "id": "EeGNGmIReC4K"
      }
    },
    {
      "cell_type": "markdown",
      "source": [
        "1) Email_ID - This column contains email ids of customers.\n",
        "\n",
        "2)  Email_type - Email type contains 2 categories i.e. 1 and 2. We can assume that the types are like marketing emails or important updates,notices like email regarding the business \n",
        "\n",
        "3) Subject_Hotness_Score - It is the emails subject's score on the basis of how good and effective contents is.\n",
        "\n",
        "4) Email_Source - It represents the source of the email like sales and marketing or important admin mails related to the product.\n",
        "\n",
        "5) Email_Campaign_Type - The Campaign type of email.\n",
        "\n",
        "6) Total_Past_Communications - This mail contains, The total previous mails from the same source, the number of communication with customers had. \n",
        "\n",
        "7) Customer_Location - Categorical data which explains the different demographic location of the customers.\n",
        "\n",
        "8) Time_Email_sent_Category - It has 3 categories of time slots:\n",
        "\n",
        " email sent at morning time slot = 1\n",
        "\n",
        " email sent at evening time slot = 2\n",
        "\n",
        " email sent at night time sllot = 3\n",
        "\n",
        "9) Word_Count - It contains the no.of words in the mail.\n",
        "\n",
        "10) Total_Links - Total links in the email body.\n",
        "\n",
        "11) Total_Images - The number of images in the email body.\n",
        "\n",
        "12) Email_Status - It is the target variable which contains the characterization of the mail that is \n",
        "\n",
        "ignored = 0 \n",
        "\n",
        "read = 1\n",
        "\n",
        "acknowledged by the reader = 2"
      ],
      "metadata": {
        "id": "gEGdwLCGeEqd"
      }
    },
    {
      "cell_type": "markdown",
      "source": [
        "## Now performing EDA and see how this email dataset is giving prediction regarding email status "
      ],
      "metadata": {
        "id": "DO9SkHg0iMIm"
      }
    },
    {
      "cell_type": "markdown",
      "source": [
        "# EDA "
      ],
      "metadata": {
        "id": "fWwTAxV_ifgD"
      }
    },
    {
      "cell_type": "markdown",
      "source": [
        "## Importing Lbraries "
      ],
      "metadata": {
        "id": "QrVsbvWPjQ_h"
      }
    },
    {
      "cell_type": "code",
      "source": [
        "import numpy as np\n",
        "import pandas as pd \n",
        "import matplotlib.pyplot as plt \n",
        "import seaborn as sns\n",
        "\n",
        "# To build ML models Importing libraries\n",
        "from sklearn.model_selection import train_test_split\n",
        "from sklearn.model_selection import GridSearchCV\n",
        "from sklearn.preprocessing import OneHotEncoder\n",
        "from sklearn.linear_model import LogisticRegression\n",
        "from sklearn.tree import DecisionTreeClassifier\n",
        "from xgboost import XGBClassifier\n",
        "from sklearn.ensemble import RandomForestClassifier\n",
        "from sklearn.svm import SVC\n",
        "from sklearn.neighbors import KNeighborsClassifier\n",
        "from sklearn.naive_bayes import GaussianNB\n",
        "from sklearn.naive_bayes import BernoulliNB \n",
        "from sklearn.naive_bayes import MultinomialNB\n",
        "\n",
        "# Importing warnings to avoid it if any generated in code\n",
        "import warnings \n",
        "warnings.filterwarnings('ignore')"
      ],
      "metadata": {
        "id": "Cx5YtCv5jfgA"
      },
      "execution_count": 2,
      "outputs": []
    },
    {
      "cell_type": "markdown",
      "source": [
        "## loading dataset"
      ],
      "metadata": {
        "id": "Hg08AUcnsUHD"
      }
    },
    {
      "cell_type": "code",
      "source": [
        "path = \"/content/drive/MyDrive/ Capstone project/Supervised ML Classification Project/data_email_campaign.csv\""
      ],
      "metadata": {
        "id": "M05pntB-sc4K"
      },
      "execution_count": 3,
      "outputs": []
    },
    {
      "cell_type": "code",
      "source": [
        "email_df = pd.read_csv(path)"
      ],
      "metadata": {
        "id": "hScbFO-7s0mI"
      },
      "execution_count": 4,
      "outputs": []
    },
    {
      "cell_type": "markdown",
      "source": [
        "## Dataset view"
      ],
      "metadata": {
        "id": "-T7wIQjNwXOu"
      }
    },
    {
      "cell_type": "code",
      "source": [
        "# looking First 5 rows of dataset\n",
        "\n",
        "email_df.head()"
      ],
      "metadata": {
        "colab": {
          "base_uri": "https://localhost:8080/",
          "height": 270
        },
        "id": "13vUdwGCs_E3",
        "outputId": "2de2ac0f-26c5-4fa0-f2b6-e7cad6bb115d"
      },
      "execution_count": 5,
      "outputs": [
        {
          "output_type": "execute_result",
          "data": {
            "text/plain": [
              "            Email_ID  Email_Type  Subject_Hotness_Score  Email_Source_Type  \\\n",
              "0  EMA00081000034500           1                    2.2                  2   \n",
              "1  EMA00081000045360           2                    2.1                  1   \n",
              "2  EMA00081000066290           2                    0.1                  1   \n",
              "3  EMA00081000076560           1                    3.0                  2   \n",
              "4  EMA00081000109720           1                    0.0                  2   \n",
              "\n",
              "  Customer_Location  Email_Campaign_Type  Total_Past_Communications  \\\n",
              "0                 E                    2                       33.0   \n",
              "1               NaN                    2                       15.0   \n",
              "2                 B                    3                       36.0   \n",
              "3                 E                    2                       25.0   \n",
              "4                 C                    3                       18.0   \n",
              "\n",
              "   Time_Email_sent_Category  Word_Count  Total_Links  Total_Images  \\\n",
              "0                         1         440          8.0           0.0   \n",
              "1                         2         504          5.0           0.0   \n",
              "2                         2         962          5.0           0.0   \n",
              "3                         2         610         16.0           0.0   \n",
              "4                         2         947          4.0           0.0   \n",
              "\n",
              "   Email_Status  \n",
              "0             0  \n",
              "1             0  \n",
              "2             1  \n",
              "3             0  \n",
              "4             0  "
            ],
            "text/html": [
              "\n",
              "  <div id=\"df-e48eca4b-5a20-4266-98ea-1d6ecb12df3f\">\n",
              "    <div class=\"colab-df-container\">\n",
              "      <div>\n",
              "<style scoped>\n",
              "    .dataframe tbody tr th:only-of-type {\n",
              "        vertical-align: middle;\n",
              "    }\n",
              "\n",
              "    .dataframe tbody tr th {\n",
              "        vertical-align: top;\n",
              "    }\n",
              "\n",
              "    .dataframe thead th {\n",
              "        text-align: right;\n",
              "    }\n",
              "</style>\n",
              "<table border=\"1\" class=\"dataframe\">\n",
              "  <thead>\n",
              "    <tr style=\"text-align: right;\">\n",
              "      <th></th>\n",
              "      <th>Email_ID</th>\n",
              "      <th>Email_Type</th>\n",
              "      <th>Subject_Hotness_Score</th>\n",
              "      <th>Email_Source_Type</th>\n",
              "      <th>Customer_Location</th>\n",
              "      <th>Email_Campaign_Type</th>\n",
              "      <th>Total_Past_Communications</th>\n",
              "      <th>Time_Email_sent_Category</th>\n",
              "      <th>Word_Count</th>\n",
              "      <th>Total_Links</th>\n",
              "      <th>Total_Images</th>\n",
              "      <th>Email_Status</th>\n",
              "    </tr>\n",
              "  </thead>\n",
              "  <tbody>\n",
              "    <tr>\n",
              "      <th>0</th>\n",
              "      <td>EMA00081000034500</td>\n",
              "      <td>1</td>\n",
              "      <td>2.2</td>\n",
              "      <td>2</td>\n",
              "      <td>E</td>\n",
              "      <td>2</td>\n",
              "      <td>33.0</td>\n",
              "      <td>1</td>\n",
              "      <td>440</td>\n",
              "      <td>8.0</td>\n",
              "      <td>0.0</td>\n",
              "      <td>0</td>\n",
              "    </tr>\n",
              "    <tr>\n",
              "      <th>1</th>\n",
              "      <td>EMA00081000045360</td>\n",
              "      <td>2</td>\n",
              "      <td>2.1</td>\n",
              "      <td>1</td>\n",
              "      <td>NaN</td>\n",
              "      <td>2</td>\n",
              "      <td>15.0</td>\n",
              "      <td>2</td>\n",
              "      <td>504</td>\n",
              "      <td>5.0</td>\n",
              "      <td>0.0</td>\n",
              "      <td>0</td>\n",
              "    </tr>\n",
              "    <tr>\n",
              "      <th>2</th>\n",
              "      <td>EMA00081000066290</td>\n",
              "      <td>2</td>\n",
              "      <td>0.1</td>\n",
              "      <td>1</td>\n",
              "      <td>B</td>\n",
              "      <td>3</td>\n",
              "      <td>36.0</td>\n",
              "      <td>2</td>\n",
              "      <td>962</td>\n",
              "      <td>5.0</td>\n",
              "      <td>0.0</td>\n",
              "      <td>1</td>\n",
              "    </tr>\n",
              "    <tr>\n",
              "      <th>3</th>\n",
              "      <td>EMA00081000076560</td>\n",
              "      <td>1</td>\n",
              "      <td>3.0</td>\n",
              "      <td>2</td>\n",
              "      <td>E</td>\n",
              "      <td>2</td>\n",
              "      <td>25.0</td>\n",
              "      <td>2</td>\n",
              "      <td>610</td>\n",
              "      <td>16.0</td>\n",
              "      <td>0.0</td>\n",
              "      <td>0</td>\n",
              "    </tr>\n",
              "    <tr>\n",
              "      <th>4</th>\n",
              "      <td>EMA00081000109720</td>\n",
              "      <td>1</td>\n",
              "      <td>0.0</td>\n",
              "      <td>2</td>\n",
              "      <td>C</td>\n",
              "      <td>3</td>\n",
              "      <td>18.0</td>\n",
              "      <td>2</td>\n",
              "      <td>947</td>\n",
              "      <td>4.0</td>\n",
              "      <td>0.0</td>\n",
              "      <td>0</td>\n",
              "    </tr>\n",
              "  </tbody>\n",
              "</table>\n",
              "</div>\n",
              "      <button class=\"colab-df-convert\" onclick=\"convertToInteractive('df-e48eca4b-5a20-4266-98ea-1d6ecb12df3f')\"\n",
              "              title=\"Convert this dataframe to an interactive table.\"\n",
              "              style=\"display:none;\">\n",
              "        \n",
              "  <svg xmlns=\"http://www.w3.org/2000/svg\" height=\"24px\"viewBox=\"0 0 24 24\"\n",
              "       width=\"24px\">\n",
              "    <path d=\"M0 0h24v24H0V0z\" fill=\"none\"/>\n",
              "    <path d=\"M18.56 5.44l.94 2.06.94-2.06 2.06-.94-2.06-.94-.94-2.06-.94 2.06-2.06.94zm-11 1L8.5 8.5l.94-2.06 2.06-.94-2.06-.94L8.5 2.5l-.94 2.06-2.06.94zm10 10l.94 2.06.94-2.06 2.06-.94-2.06-.94-.94-2.06-.94 2.06-2.06.94z\"/><path d=\"M17.41 7.96l-1.37-1.37c-.4-.4-.92-.59-1.43-.59-.52 0-1.04.2-1.43.59L10.3 9.45l-7.72 7.72c-.78.78-.78 2.05 0 2.83L4 21.41c.39.39.9.59 1.41.59.51 0 1.02-.2 1.41-.59l7.78-7.78 2.81-2.81c.8-.78.8-2.07 0-2.86zM5.41 20L4 18.59l7.72-7.72 1.47 1.35L5.41 20z\"/>\n",
              "  </svg>\n",
              "      </button>\n",
              "      \n",
              "  <style>\n",
              "    .colab-df-container {\n",
              "      display:flex;\n",
              "      flex-wrap:wrap;\n",
              "      gap: 12px;\n",
              "    }\n",
              "\n",
              "    .colab-df-convert {\n",
              "      background-color: #E8F0FE;\n",
              "      border: none;\n",
              "      border-radius: 50%;\n",
              "      cursor: pointer;\n",
              "      display: none;\n",
              "      fill: #1967D2;\n",
              "      height: 32px;\n",
              "      padding: 0 0 0 0;\n",
              "      width: 32px;\n",
              "    }\n",
              "\n",
              "    .colab-df-convert:hover {\n",
              "      background-color: #E2EBFA;\n",
              "      box-shadow: 0px 1px 2px rgba(60, 64, 67, 0.3), 0px 1px 3px 1px rgba(60, 64, 67, 0.15);\n",
              "      fill: #174EA6;\n",
              "    }\n",
              "\n",
              "    [theme=dark] .colab-df-convert {\n",
              "      background-color: #3B4455;\n",
              "      fill: #D2E3FC;\n",
              "    }\n",
              "\n",
              "    [theme=dark] .colab-df-convert:hover {\n",
              "      background-color: #434B5C;\n",
              "      box-shadow: 0px 1px 3px 1px rgba(0, 0, 0, 0.15);\n",
              "      filter: drop-shadow(0px 1px 2px rgba(0, 0, 0, 0.3));\n",
              "      fill: #FFFFFF;\n",
              "    }\n",
              "  </style>\n",
              "\n",
              "      <script>\n",
              "        const buttonEl =\n",
              "          document.querySelector('#df-e48eca4b-5a20-4266-98ea-1d6ecb12df3f button.colab-df-convert');\n",
              "        buttonEl.style.display =\n",
              "          google.colab.kernel.accessAllowed ? 'block' : 'none';\n",
              "\n",
              "        async function convertToInteractive(key) {\n",
              "          const element = document.querySelector('#df-e48eca4b-5a20-4266-98ea-1d6ecb12df3f');\n",
              "          const dataTable =\n",
              "            await google.colab.kernel.invokeFunction('convertToInteractive',\n",
              "                                                     [key], {});\n",
              "          if (!dataTable) return;\n",
              "\n",
              "          const docLinkHtml = 'Like what you see? Visit the ' +\n",
              "            '<a target=\"_blank\" href=https://colab.research.google.com/notebooks/data_table.ipynb>data table notebook</a>'\n",
              "            + ' to learn more about interactive tables.';\n",
              "          element.innerHTML = '';\n",
              "          dataTable['output_type'] = 'display_data';\n",
              "          await google.colab.output.renderOutput(dataTable, element);\n",
              "          const docLink = document.createElement('div');\n",
              "          docLink.innerHTML = docLinkHtml;\n",
              "          element.appendChild(docLink);\n",
              "        }\n",
              "      </script>\n",
              "    </div>\n",
              "  </div>\n",
              "  "
            ]
          },
          "metadata": {},
          "execution_count": 5
        }
      ]
    },
    {
      "cell_type": "code",
      "source": [
        "email_df.shape"
      ],
      "metadata": {
        "id": "GUaX2kA0tIaX",
        "colab": {
          "base_uri": "https://localhost:8080/"
        },
        "outputId": "919b6b6e-9ac5-475f-f1e0-cbb0e1cf3bb4"
      },
      "execution_count": 8,
      "outputs": [
        {
          "output_type": "execute_result",
          "data": {
            "text/plain": [
              "(68353, 12)"
            ]
          },
          "metadata": {},
          "execution_count": 8
        }
      ]
    },
    {
      "cell_type": "markdown",
      "source": [
        "As we see that email dataset contains 68353 number of observations (Rows) and 12 features (columns)."
      ],
      "metadata": {
        "id": "U_hzLaO4wuwE"
      }
    },
    {
      "cell_type": "code",
      "source": [
        "email_df.info()"
      ],
      "metadata": {
        "colab": {
          "base_uri": "https://localhost:8080/"
        },
        "id": "CfC4w3wfwfGR",
        "outputId": "166c7cc8-271f-421e-9800-89142355e783"
      },
      "execution_count": 9,
      "outputs": [
        {
          "output_type": "stream",
          "name": "stdout",
          "text": [
            "<class 'pandas.core.frame.DataFrame'>\n",
            "RangeIndex: 68353 entries, 0 to 68352\n",
            "Data columns (total 12 columns):\n",
            " #   Column                     Non-Null Count  Dtype  \n",
            "---  ------                     --------------  -----  \n",
            " 0   Email_ID                   68353 non-null  object \n",
            " 1   Email_Type                 68353 non-null  int64  \n",
            " 2   Subject_Hotness_Score      68353 non-null  float64\n",
            " 3   Email_Source_Type          68353 non-null  int64  \n",
            " 4   Customer_Location          56758 non-null  object \n",
            " 5   Email_Campaign_Type        68353 non-null  int64  \n",
            " 6   Total_Past_Communications  61528 non-null  float64\n",
            " 7   Time_Email_sent_Category   68353 non-null  int64  \n",
            " 8   Word_Count                 68353 non-null  int64  \n",
            " 9   Total_Links                66152 non-null  float64\n",
            " 10  Total_Images               66676 non-null  float64\n",
            " 11  Email_Status               68353 non-null  int64  \n",
            "dtypes: float64(4), int64(6), object(2)\n",
            "memory usage: 6.3+ MB\n"
          ]
        }
      ]
    },
    {
      "cell_type": "code",
      "source": [
        "email_df.columns"
      ],
      "metadata": {
        "colab": {
          "base_uri": "https://localhost:8080/"
        },
        "id": "8_fIJqAAyyI1",
        "outputId": "47f47490-0c03-4295-b0cd-73e3e82a9b7e"
      },
      "execution_count": 17,
      "outputs": [
        {
          "output_type": "execute_result",
          "data": {
            "text/plain": [
              "Index(['Email_ID', 'Email_Type', 'Subject_Hotness_Score', 'Email_Source_Type',\n",
              "       'Customer_Location', 'Email_Campaign_Type', 'Total_Past_Communications',\n",
              "       'Time_Email_sent_Category', 'Word_Count', 'Total_Links', 'Total_Images',\n",
              "       'Email_Status'],\n",
              "      dtype='object')"
            ]
          },
          "metadata": {},
          "execution_count": 17
        }
      ]
    },
    {
      "cell_type": "markdown",
      "source": [
        "# Statistical summary of dataset"
      ],
      "metadata": {
        "id": "y1_lbQ0X6QCv"
      }
    },
    {
      "cell_type": "code",
      "source": [
        "\n",
        "email_df.describe(include='all')                 ## include = 'all' contains all numerical and categorical features."
      ],
      "metadata": {
        "colab": {
          "base_uri": "https://localhost:8080/",
          "height": 458
        },
        "id": "v8BJ167WzMh-",
        "outputId": "b86b02fc-fc44-4121-ba08-deade27ac893"
      },
      "execution_count": 13,
      "outputs": [
        {
          "output_type": "execute_result",
          "data": {
            "text/plain": [
              "                 Email_ID    Email_Type  Subject_Hotness_Score  \\\n",
              "count               68353  68353.000000           68353.000000   \n",
              "unique              68353           NaN                    NaN   \n",
              "top     EMA00081000034500           NaN                    NaN   \n",
              "freq                    1           NaN                    NaN   \n",
              "mean                  NaN      1.285094               1.095481   \n",
              "std                   NaN      0.451462               0.997578   \n",
              "min                   NaN      1.000000               0.000000   \n",
              "25%                   NaN      1.000000               0.200000   \n",
              "50%                   NaN      1.000000               0.800000   \n",
              "75%                   NaN      2.000000               1.800000   \n",
              "max                   NaN      2.000000               5.000000   \n",
              "\n",
              "        Email_Source_Type Customer_Location  Email_Campaign_Type  \\\n",
              "count        68353.000000             56758         68353.000000   \n",
              "unique                NaN                 7                  NaN   \n",
              "top                   NaN                 G                  NaN   \n",
              "freq                  NaN             23173                  NaN   \n",
              "mean             1.456513               NaN             2.272234   \n",
              "std              0.498109               NaN             0.468680   \n",
              "min              1.000000               NaN             1.000000   \n",
              "25%              1.000000               NaN             2.000000   \n",
              "50%              1.000000               NaN             2.000000   \n",
              "75%              2.000000               NaN             3.000000   \n",
              "max              2.000000               NaN             3.000000   \n",
              "\n",
              "        Total_Past_Communications  Time_Email_sent_Category    Word_Count  \\\n",
              "count                61528.000000              68353.000000  68353.000000   \n",
              "unique                        NaN                       NaN           NaN   \n",
              "top                           NaN                       NaN           NaN   \n",
              "freq                          NaN                       NaN           NaN   \n",
              "mean                    28.933250                  1.999298    699.931751   \n",
              "std                     12.536518                  0.631103    271.719440   \n",
              "min                      0.000000                  1.000000     40.000000   \n",
              "25%                     20.000000                  2.000000    521.000000   \n",
              "50%                     28.000000                  2.000000    694.000000   \n",
              "75%                     38.000000                  2.000000    880.000000   \n",
              "max                     67.000000                  3.000000   1316.000000   \n",
              "\n",
              "         Total_Links  Total_Images  Email_Status  \n",
              "count   66152.000000  66676.000000  68353.000000  \n",
              "unique           NaN           NaN           NaN  \n",
              "top              NaN           NaN           NaN  \n",
              "freq             NaN           NaN           NaN  \n",
              "mean       10.429526      3.550678      0.230934  \n",
              "std         6.383270      5.596983      0.497032  \n",
              "min         1.000000      0.000000      0.000000  \n",
              "25%         6.000000      0.000000      0.000000  \n",
              "50%         9.000000      0.000000      0.000000  \n",
              "75%        14.000000      5.000000      0.000000  \n",
              "max        49.000000     45.000000      2.000000  "
            ],
            "text/html": [
              "\n",
              "  <div id=\"df-327ec81c-e0ed-4be4-811f-5c93e8e5dc08\">\n",
              "    <div class=\"colab-df-container\">\n",
              "      <div>\n",
              "<style scoped>\n",
              "    .dataframe tbody tr th:only-of-type {\n",
              "        vertical-align: middle;\n",
              "    }\n",
              "\n",
              "    .dataframe tbody tr th {\n",
              "        vertical-align: top;\n",
              "    }\n",
              "\n",
              "    .dataframe thead th {\n",
              "        text-align: right;\n",
              "    }\n",
              "</style>\n",
              "<table border=\"1\" class=\"dataframe\">\n",
              "  <thead>\n",
              "    <tr style=\"text-align: right;\">\n",
              "      <th></th>\n",
              "      <th>Email_ID</th>\n",
              "      <th>Email_Type</th>\n",
              "      <th>Subject_Hotness_Score</th>\n",
              "      <th>Email_Source_Type</th>\n",
              "      <th>Customer_Location</th>\n",
              "      <th>Email_Campaign_Type</th>\n",
              "      <th>Total_Past_Communications</th>\n",
              "      <th>Time_Email_sent_Category</th>\n",
              "      <th>Word_Count</th>\n",
              "      <th>Total_Links</th>\n",
              "      <th>Total_Images</th>\n",
              "      <th>Email_Status</th>\n",
              "    </tr>\n",
              "  </thead>\n",
              "  <tbody>\n",
              "    <tr>\n",
              "      <th>count</th>\n",
              "      <td>68353</td>\n",
              "      <td>68353.000000</td>\n",
              "      <td>68353.000000</td>\n",
              "      <td>68353.000000</td>\n",
              "      <td>56758</td>\n",
              "      <td>68353.000000</td>\n",
              "      <td>61528.000000</td>\n",
              "      <td>68353.000000</td>\n",
              "      <td>68353.000000</td>\n",
              "      <td>66152.000000</td>\n",
              "      <td>66676.000000</td>\n",
              "      <td>68353.000000</td>\n",
              "    </tr>\n",
              "    <tr>\n",
              "      <th>unique</th>\n",
              "      <td>68353</td>\n",
              "      <td>NaN</td>\n",
              "      <td>NaN</td>\n",
              "      <td>NaN</td>\n",
              "      <td>7</td>\n",
              "      <td>NaN</td>\n",
              "      <td>NaN</td>\n",
              "      <td>NaN</td>\n",
              "      <td>NaN</td>\n",
              "      <td>NaN</td>\n",
              "      <td>NaN</td>\n",
              "      <td>NaN</td>\n",
              "    </tr>\n",
              "    <tr>\n",
              "      <th>top</th>\n",
              "      <td>EMA00081000034500</td>\n",
              "      <td>NaN</td>\n",
              "      <td>NaN</td>\n",
              "      <td>NaN</td>\n",
              "      <td>G</td>\n",
              "      <td>NaN</td>\n",
              "      <td>NaN</td>\n",
              "      <td>NaN</td>\n",
              "      <td>NaN</td>\n",
              "      <td>NaN</td>\n",
              "      <td>NaN</td>\n",
              "      <td>NaN</td>\n",
              "    </tr>\n",
              "    <tr>\n",
              "      <th>freq</th>\n",
              "      <td>1</td>\n",
              "      <td>NaN</td>\n",
              "      <td>NaN</td>\n",
              "      <td>NaN</td>\n",
              "      <td>23173</td>\n",
              "      <td>NaN</td>\n",
              "      <td>NaN</td>\n",
              "      <td>NaN</td>\n",
              "      <td>NaN</td>\n",
              "      <td>NaN</td>\n",
              "      <td>NaN</td>\n",
              "      <td>NaN</td>\n",
              "    </tr>\n",
              "    <tr>\n",
              "      <th>mean</th>\n",
              "      <td>NaN</td>\n",
              "      <td>1.285094</td>\n",
              "      <td>1.095481</td>\n",
              "      <td>1.456513</td>\n",
              "      <td>NaN</td>\n",
              "      <td>2.272234</td>\n",
              "      <td>28.933250</td>\n",
              "      <td>1.999298</td>\n",
              "      <td>699.931751</td>\n",
              "      <td>10.429526</td>\n",
              "      <td>3.550678</td>\n",
              "      <td>0.230934</td>\n",
              "    </tr>\n",
              "    <tr>\n",
              "      <th>std</th>\n",
              "      <td>NaN</td>\n",
              "      <td>0.451462</td>\n",
              "      <td>0.997578</td>\n",
              "      <td>0.498109</td>\n",
              "      <td>NaN</td>\n",
              "      <td>0.468680</td>\n",
              "      <td>12.536518</td>\n",
              "      <td>0.631103</td>\n",
              "      <td>271.719440</td>\n",
              "      <td>6.383270</td>\n",
              "      <td>5.596983</td>\n",
              "      <td>0.497032</td>\n",
              "    </tr>\n",
              "    <tr>\n",
              "      <th>min</th>\n",
              "      <td>NaN</td>\n",
              "      <td>1.000000</td>\n",
              "      <td>0.000000</td>\n",
              "      <td>1.000000</td>\n",
              "      <td>NaN</td>\n",
              "      <td>1.000000</td>\n",
              "      <td>0.000000</td>\n",
              "      <td>1.000000</td>\n",
              "      <td>40.000000</td>\n",
              "      <td>1.000000</td>\n",
              "      <td>0.000000</td>\n",
              "      <td>0.000000</td>\n",
              "    </tr>\n",
              "    <tr>\n",
              "      <th>25%</th>\n",
              "      <td>NaN</td>\n",
              "      <td>1.000000</td>\n",
              "      <td>0.200000</td>\n",
              "      <td>1.000000</td>\n",
              "      <td>NaN</td>\n",
              "      <td>2.000000</td>\n",
              "      <td>20.000000</td>\n",
              "      <td>2.000000</td>\n",
              "      <td>521.000000</td>\n",
              "      <td>6.000000</td>\n",
              "      <td>0.000000</td>\n",
              "      <td>0.000000</td>\n",
              "    </tr>\n",
              "    <tr>\n",
              "      <th>50%</th>\n",
              "      <td>NaN</td>\n",
              "      <td>1.000000</td>\n",
              "      <td>0.800000</td>\n",
              "      <td>1.000000</td>\n",
              "      <td>NaN</td>\n",
              "      <td>2.000000</td>\n",
              "      <td>28.000000</td>\n",
              "      <td>2.000000</td>\n",
              "      <td>694.000000</td>\n",
              "      <td>9.000000</td>\n",
              "      <td>0.000000</td>\n",
              "      <td>0.000000</td>\n",
              "    </tr>\n",
              "    <tr>\n",
              "      <th>75%</th>\n",
              "      <td>NaN</td>\n",
              "      <td>2.000000</td>\n",
              "      <td>1.800000</td>\n",
              "      <td>2.000000</td>\n",
              "      <td>NaN</td>\n",
              "      <td>3.000000</td>\n",
              "      <td>38.000000</td>\n",
              "      <td>2.000000</td>\n",
              "      <td>880.000000</td>\n",
              "      <td>14.000000</td>\n",
              "      <td>5.000000</td>\n",
              "      <td>0.000000</td>\n",
              "    </tr>\n",
              "    <tr>\n",
              "      <th>max</th>\n",
              "      <td>NaN</td>\n",
              "      <td>2.000000</td>\n",
              "      <td>5.000000</td>\n",
              "      <td>2.000000</td>\n",
              "      <td>NaN</td>\n",
              "      <td>3.000000</td>\n",
              "      <td>67.000000</td>\n",
              "      <td>3.000000</td>\n",
              "      <td>1316.000000</td>\n",
              "      <td>49.000000</td>\n",
              "      <td>45.000000</td>\n",
              "      <td>2.000000</td>\n",
              "    </tr>\n",
              "  </tbody>\n",
              "</table>\n",
              "</div>\n",
              "      <button class=\"colab-df-convert\" onclick=\"convertToInteractive('df-327ec81c-e0ed-4be4-811f-5c93e8e5dc08')\"\n",
              "              title=\"Convert this dataframe to an interactive table.\"\n",
              "              style=\"display:none;\">\n",
              "        \n",
              "  <svg xmlns=\"http://www.w3.org/2000/svg\" height=\"24px\"viewBox=\"0 0 24 24\"\n",
              "       width=\"24px\">\n",
              "    <path d=\"M0 0h24v24H0V0z\" fill=\"none\"/>\n",
              "    <path d=\"M18.56 5.44l.94 2.06.94-2.06 2.06-.94-2.06-.94-.94-2.06-.94 2.06-2.06.94zm-11 1L8.5 8.5l.94-2.06 2.06-.94-2.06-.94L8.5 2.5l-.94 2.06-2.06.94zm10 10l.94 2.06.94-2.06 2.06-.94-2.06-.94-.94-2.06-.94 2.06-2.06.94z\"/><path d=\"M17.41 7.96l-1.37-1.37c-.4-.4-.92-.59-1.43-.59-.52 0-1.04.2-1.43.59L10.3 9.45l-7.72 7.72c-.78.78-.78 2.05 0 2.83L4 21.41c.39.39.9.59 1.41.59.51 0 1.02-.2 1.41-.59l7.78-7.78 2.81-2.81c.8-.78.8-2.07 0-2.86zM5.41 20L4 18.59l7.72-7.72 1.47 1.35L5.41 20z\"/>\n",
              "  </svg>\n",
              "      </button>\n",
              "      \n",
              "  <style>\n",
              "    .colab-df-container {\n",
              "      display:flex;\n",
              "      flex-wrap:wrap;\n",
              "      gap: 12px;\n",
              "    }\n",
              "\n",
              "    .colab-df-convert {\n",
              "      background-color: #E8F0FE;\n",
              "      border: none;\n",
              "      border-radius: 50%;\n",
              "      cursor: pointer;\n",
              "      display: none;\n",
              "      fill: #1967D2;\n",
              "      height: 32px;\n",
              "      padding: 0 0 0 0;\n",
              "      width: 32px;\n",
              "    }\n",
              "\n",
              "    .colab-df-convert:hover {\n",
              "      background-color: #E2EBFA;\n",
              "      box-shadow: 0px 1px 2px rgba(60, 64, 67, 0.3), 0px 1px 3px 1px rgba(60, 64, 67, 0.15);\n",
              "      fill: #174EA6;\n",
              "    }\n",
              "\n",
              "    [theme=dark] .colab-df-convert {\n",
              "      background-color: #3B4455;\n",
              "      fill: #D2E3FC;\n",
              "    }\n",
              "\n",
              "    [theme=dark] .colab-df-convert:hover {\n",
              "      background-color: #434B5C;\n",
              "      box-shadow: 0px 1px 3px 1px rgba(0, 0, 0, 0.15);\n",
              "      filter: drop-shadow(0px 1px 2px rgba(0, 0, 0, 0.3));\n",
              "      fill: #FFFFFF;\n",
              "    }\n",
              "  </style>\n",
              "\n",
              "      <script>\n",
              "        const buttonEl =\n",
              "          document.querySelector('#df-327ec81c-e0ed-4be4-811f-5c93e8e5dc08 button.colab-df-convert');\n",
              "        buttonEl.style.display =\n",
              "          google.colab.kernel.accessAllowed ? 'block' : 'none';\n",
              "\n",
              "        async function convertToInteractive(key) {\n",
              "          const element = document.querySelector('#df-327ec81c-e0ed-4be4-811f-5c93e8e5dc08');\n",
              "          const dataTable =\n",
              "            await google.colab.kernel.invokeFunction('convertToInteractive',\n",
              "                                                     [key], {});\n",
              "          if (!dataTable) return;\n",
              "\n",
              "          const docLinkHtml = 'Like what you see? Visit the ' +\n",
              "            '<a target=\"_blank\" href=https://colab.research.google.com/notebooks/data_table.ipynb>data table notebook</a>'\n",
              "            + ' to learn more about interactive tables.';\n",
              "          element.innerHTML = '';\n",
              "          dataTable['output_type'] = 'display_data';\n",
              "          await google.colab.output.renderOutput(dataTable, element);\n",
              "          const docLink = document.createElement('div');\n",
              "          docLink.innerHTML = docLinkHtml;\n",
              "          element.appendChild(docLink);\n",
              "        }\n",
              "      </script>\n",
              "    </div>\n",
              "  </div>\n",
              "  "
            ]
          },
          "metadata": {},
          "execution_count": 13
        }
      ]
    },
    {
      "cell_type": "markdown",
      "source": [
        "This displays summary of statistics of dataframe\n",
        "\n",
        "Information of different descriptive statistics :-\n",
        "\n",
        "1) Measures of Frequency :- Count, Percent, Frequency.\n",
        "\n",
        "2) Measures of Central Tendency :- Mean, Median, and Mode.\n",
        "\n",
        "3)Measures of Dispersion or Variation or spread :- Range( max - min ),Variance, Standard Deviation.\n",
        "\n",
        "4) Measures of Position :- Percentile Ranks, Quartile Ranks."
      ],
      "metadata": {
        "id": "hHQNmdep0Jia"
      }
    },
    {
      "cell_type": "markdown",
      "source": [
        "# Preprocessing The Data"
      ],
      "metadata": {
        "id": "3aYbgfSN0ScV"
      }
    },
    {
      "cell_type": "markdown",
      "source": [
        "## Checking Null values "
      ],
      "metadata": {
        "id": "TUo1a8GcxS0G"
      }
    },
    {
      "cell_type": "code",
      "source": [
        "email_df.isnull().sum()"
      ],
      "metadata": {
        "colab": {
          "base_uri": "https://localhost:8080/"
        },
        "id": "64tCFqhMxCgF",
        "outputId": "68f6b523-3b1f-4896-ff33-9f7245943e8b"
      },
      "execution_count": 10,
      "outputs": [
        {
          "output_type": "execute_result",
          "data": {
            "text/plain": [
              "Email_ID                         0\n",
              "Email_Type                       0\n",
              "Subject_Hotness_Score            0\n",
              "Email_Source_Type                0\n",
              "Customer_Location            11595\n",
              "Email_Campaign_Type              0\n",
              "Total_Past_Communications     6825\n",
              "Time_Email_sent_Category         0\n",
              "Word_Count                       0\n",
              "Total_Links                   2201\n",
              "Total_Images                  1677\n",
              "Email_Status                     0\n",
              "dtype: int64"
            ]
          },
          "metadata": {},
          "execution_count": 10
        }
      ]
    },
    {
      "cell_type": "code",
      "source": [
        "# Percentage of null values in each feature\n",
        "\n",
        "print(email_df.isnull().sum()/ len(email_df)*100)\n",
        "pd.options.display.float_format = '{:,.2f} %'.format"
      ],
      "metadata": {
        "colab": {
          "base_uri": "https://localhost:8080/"
        },
        "id": "v0C9xIbU0hin",
        "outputId": "87a5e02f-e418-4965-9396-8ccb2586e78a"
      },
      "execution_count": 16,
      "outputs": [
        {
          "output_type": "stream",
          "name": "stdout",
          "text": [
            "Email_ID                     0.00 %\n",
            "Email_Type                   0.00 %\n",
            "Subject_Hotness_Score        0.00 %\n",
            "Email_Source_Type            0.00 %\n",
            "Customer_Location           16.96 %\n",
            "Email_Campaign_Type          0.00 %\n",
            "Total_Past_Communications    9.98 %\n",
            "Time_Email_sent_Category     0.00 %\n",
            "Word_Count                   0.00 %\n",
            "Total_Links                  3.22 %\n",
            "Total_Images                 2.45 %\n",
            "Email_Status                 0.00 %\n",
            "dtype: float64\n"
          ]
        }
      ]
    },
    {
      "cell_type": "markdown",
      "source": [
        "---> We have some features which have null values present\n",
        "\n",
        "1) Customer_location column have 11595 i.e. 16.96% of observations are missing \n",
        "\n",
        "2) Total_past_Communications have 6825 i.e 9.98% of  observations are missing\n",
        "\n",
        "3) Total_links have 2201 i.e. 3.22% of observations are missing\n",
        "\n",
        "4) Total_Images have 1677 i.e. 2.45% of observations are missing.\n",
        "\n",
        "\n",
        "So there are quite large number of null values presents in thses 4 features so we will be handling in data cleaning section."
      ],
      "metadata": {
        "id": "ex7A5jW-xb5R"
      }
    },
    {
      "cell_type": "code",
      "source": [],
      "metadata": {
        "id": "yCYBZlg-xalH"
      },
      "execution_count": null,
      "outputs": []
    },
    {
      "cell_type": "markdown",
      "source": [
        "## Checking duplicated values"
      ],
      "metadata": {
        "id": "AFLs9F_9yq7u"
      }
    },
    {
      "cell_type": "code",
      "source": [
        "email_df.duplicated().sum()"
      ],
      "metadata": {
        "colab": {
          "base_uri": "https://localhost:8080/"
        },
        "id": "3VfIaojdyu5c",
        "outputId": "510f1ab6-2241-405b-c673-76a861a703f8"
      },
      "execution_count": 12,
      "outputs": [
        {
          "output_type": "execute_result",
          "data": {
            "text/plain": [
              "0"
            ]
          },
          "metadata": {},
          "execution_count": 12
        }
      ]
    },
    {
      "cell_type": "markdown",
      "source": [
        "---> hence no duplicated values present in features so no need to perform duplication removel operation"
      ],
      "metadata": {
        "id": "zgQwR7PAy1HW"
      }
    },
    {
      "cell_type": "markdown",
      "source": [
        "# Handling Missing values"
      ],
      "metadata": {
        "id": "Yq0FnsQx5zxX"
      }
    },
    {
      "cell_type": "markdown",
      "source": [
        "The cause of missing values can be data corruption or failure to record data. The handling of missing data is very important during the preprocessing of the dataset as many machine learning algorithms do not support missing values.\n",
        "\n",
        "features which have null values :-  \n",
        "\n",
        "i) Customer_location \n",
        "\n",
        "ii) Total_past_Communications\n",
        "\n",
        " iii) Total_links\n",
        "\n",
        " iv) Total_Images "
      ],
      "metadata": {
        "id": "yEcZ6pho6Yws"
      }
    },
    {
      "cell_type": "markdown",
      "source": [
        "### i) Handling Null values of Customer_locations feature"
      ],
      "metadata": {
        "id": "qdoAMZo-7P94"
      }
    },
    {
      "cell_type": "code",
      "source": [
        "# First of all checking distribution of Customer_location feature\n",
        "\n",
        "email_df['Customer_Location'].value_counts()"
      ],
      "metadata": {
        "colab": {
          "base_uri": "https://localhost:8080/"
        },
        "id": "GhWzm3tJ8PK7",
        "outputId": "0f13f86a-8ab7-4547-9833-380cf4ce377d"
      },
      "execution_count": 19,
      "outputs": [
        {
          "output_type": "execute_result",
          "data": {
            "text/plain": [
              "G    23173\n",
              "E    10193\n",
              "D     7406\n",
              "C     5758\n",
              "F     4433\n",
              "B     4341\n",
              "A     1454\n",
              "Name: Customer_Location, dtype: int64"
            ]
          },
          "metadata": {},
          "execution_count": 19
        }
      ]
    },
    {
      "cell_type": "code",
      "source": [
        "sns.countplot(email_df['Customer_Location'])"
      ],
      "metadata": {
        "colab": {
          "base_uri": "https://localhost:8080/",
          "height": 298
        },
        "id": "yCpHsRsB8kKO",
        "outputId": "7b5e77c4-6a11-45a1-da0d-a1de3f294e93"
      },
      "execution_count": 22,
      "outputs": [
        {
          "output_type": "execute_result",
          "data": {
            "text/plain": [
              "<AxesSubplot:xlabel='Customer_Location', ylabel='count'>"
            ]
          },
          "metadata": {},
          "execution_count": 22
        },
        {
          "output_type": "display_data",
          "data": {
            "text/plain": [
              "<Figure size 432x288 with 1 Axes>"
            ],
            "image/png": "[encoded data removed]"
          },
          "metadata": {
            "needs_background": "light"
          }
        }
      ]
    },
    {
      "cell_type": "markdown",
      "source": [
        "### Checking dependancy of customer location wrt dependent feature ( Email_status)"
      ],
      "metadata": {
        "id": "nbv3d-cm85jC"
      }
    },
    {
      "cell_type": "code",
      "source": [
        "plt.figure(figsize=(15,7))\n",
        "ax = sns.countplot(email_df['Customer_Location'], hue=email_df['Email_Status'])\n"
      ],
      "metadata": {
        "colab": {
          "base_uri": "https://localhost:8080/",
          "height": 443
        },
        "id": "xNuMU6Q29MjV",
        "outputId": "cefeb77e-fdf3-431c-e785-aa7705536c03"
      },
      "execution_count": 29,
      "outputs": [
        {
          "output_type": "display_data",
          "data": {
            "text/plain": [
              "<Figure size 1080x504 with 1 Axes>"
            ],
            "image/png": "[encoded data removed]"
          },
          "metadata": {
            "needs_background": "light"
          }
        }
      ]
    },
    {
      "cell_type": "markdown",
      "source": [
        "Since Customer_location contains 16.96% of missing values i.e. there are very large number of missing values in this feature so this feature will not give much importance in our dataset. \n",
        "\n",
        "As we can see irrespective of location the  <b>Email_Status</b> is same throughout.\n",
        "so it is better to drop this column instead of treating null values."
      ],
      "metadata": {
        "id": "7RitT6P57Z2T"
      }
    },
    {
      "cell_type": "code",
      "source": [],
      "metadata": {
        "id": "vy9GctZo8EMJ"
      },
      "execution_count": 35,
      "outputs": []
    },
    {
      "cell_type": "code",
      "source": [
        " "
      ],
      "metadata": {
        "id": "cZMy4XPQCyp3"
      },
      "execution_count": 34,
      "outputs": []
    },
    {
      "cell_type": "code",
      "source": [],
      "metadata": {
        "id": "AY7yHVWfC3zt"
      },
      "execution_count": null,
      "outputs": []
    }
  ]
}